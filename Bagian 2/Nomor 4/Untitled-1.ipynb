{
 "cells": [
  {
   "cell_type": "code",
   "execution_count": 3,
   "metadata": {},
   "outputs": [
    {
     "name": "stdout",
     "output_type": "stream",
     "text": [
      "Result matrix is\n",
      "98  77  66  \n",
      "77  78  67  \n",
      "66  67  68  \n"
     ]
    }
   ],
   "source": [
    "N=3\n",
    "def transpose(A,B): \n",
    " \n",
    " for i in range(N): \n",
    "  for j in range(N): \n",
    "   B[i][j] = A[j][i] \n",
    " \n",
    "# driver code \n",
    "A = [[98, 88, 78],\n",
    "           [77, 78, 79],\n",
    "           [66, 67, 68]]\n",
    "           \n",
    " \n",
    " \n",
    "B = A[:][:] # To store result \n",
    " \n",
    "transpose(A, B) \n",
    " \n",
    "print(\"Result matrix is\") \n",
    "for i in range(N): \n",
    " for j in range(N): \n",
    "  print(B[i][j], \" \", end='') \n",
    " print() \n",
    "  "
   ]
  },
  {
   "cell_type": "code",
   "execution_count": null,
   "metadata": {},
   "outputs": [],
   "source": []
  }
 ],
 "metadata": {
  "kernelspec": {
   "display_name": "Python 3",
   "language": "python",
   "name": "python3"
  },
  "language_info": {
   "codemirror_mode": {
    "name": "ipython",
    "version": 3
   },
   "file_extension": ".py",
   "mimetype": "text/x-python",
   "name": "python",
   "nbconvert_exporter": "python",
   "pygments_lexer": "ipython3",
   "version": "3.12.3"
  }
 },
 "nbformat": 4,
 "nbformat_minor": 2
}
