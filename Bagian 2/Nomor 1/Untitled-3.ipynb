{
 "cells": [
  {
   "cell_type": "code",
   "execution_count": 3,
   "metadata": {},
   "outputs": [
    {
     "name": "stdout",
     "output_type": "stream",
     "text": [
      "angka 9 adalah bilangan ganjil\n"
     ]
    }
   ],
   "source": [
    "num=int(input(\"masukan bilangan:\"))\n",
    "\n",
    "if num % 2 == 0:\n",
    "    print(\"angka {} adalah bilangan genap\".format(num))\n",
    "else:\n",
    "    print(\"angka {} adalah bilangan ganjil\".format(num))"
   ]
  },
  {
   "cell_type": "code",
   "execution_count": 4,
   "metadata": {},
   "outputs": [
    {
     "name": "stdout",
     "output_type": "stream",
     "text": [
      "angka 68 adalah bilangan genap\n"
     ]
    }
   ],
   "source": [
    "num=int(input(\"masukan bilangan:\"))\n",
    "\n",
    "if num % 2 == 0:\n",
    "    print(\"angka {} adalah bilangan genap\".format(num))\n",
    "else:\n",
    "    print(\"angka {} adalah bilangan ganjil\".format(num))"
   ]
  },
  {
   "cell_type": "code",
   "execution_count": null,
   "metadata": {},
   "outputs": [],
   "source": []
  }
 ],
 "metadata": {
  "kernelspec": {
   "display_name": "base",
   "language": "python",
   "name": "python3"
  },
  "language_info": {
   "codemirror_mode": {
    "name": "ipython",
    "version": 3
   },
   "file_extension": ".py",
   "mimetype": "text/x-python",
   "name": "python",
   "nbconvert_exporter": "python",
   "pygments_lexer": "ipython3",
   "version": "3.11.5"
  }
 },
 "nbformat": 4,
 "nbformat_minor": 2
}
